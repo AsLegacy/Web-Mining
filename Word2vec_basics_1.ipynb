{
 "cells": [
  {
   "cell_type": "code",
   "execution_count": 1,
   "metadata": {},
   "outputs": [
    {
     "name": "stderr",
     "output_type": "stream",
     "text": [
      "c:\\program files\\python36\\lib\\site-packages\\gensim\\utils.py:1212: UserWarning: detected Windows; aliasing chunkize to chunkize_serial\n",
      "  warnings.warn(\"detected Windows; aliasing chunkize to chunkize_serial\")\n"
     ]
    }
   ],
   "source": [
    "#initialize and train a word2vec model\n",
    "from gensim.models import Word2Vec\n",
    "import multiprocessing"
   ]
  },
  {
   "cell_type": "code",
   "execution_count": 2,
   "metadata": {},
   "outputs": [],
   "source": [
    "#enable lo\n",
    "documents = [\"Human machine interface for lab abc computer applications\",\n",
    "             \"A survey of user opinion of computer system response time\",\n",
    "             \"The EPS user interface management system\",\n",
    "             \"System and human system engineering testing of EPS\",\n",
    "             \"Relation of user perceived response time to error measurement\",\n",
    "             \"The generation of random binary unordered trees\",\n",
    "             \"The intersection graph of paths in trees\",\n",
    "             \"Graph minors IV Widths of trees and well quasi ordering\", \n",
    "             \"Graph minors A survey\"]"
   ]
  },
  {
   "cell_type": "code",
   "execution_count": 3,
   "metadata": {},
   "outputs": [
    {
     "name": "stdout",
     "output_type": "stream",
     "text": [
      "[['human', 'machine', 'interface', 'for', 'lab', 'abc', 'computer', 'applications'], ['a', 'survey', 'of', 'user', 'opinion', 'of', 'computer', 'system', 'response', 'time'], ['the', 'eps', 'user', 'interface', 'management', 'system'], ['system', 'and', 'human', 'system', 'engineering', 'testing', 'of', 'eps'], ['relation', 'of', 'user', 'perceived', 'response', 'time', 'to', 'error', 'measurement'], ['the', 'generation', 'of', 'random', 'binary', 'unordered', 'trees'], ['the', 'intersection', 'graph', 'of', 'paths', 'in', 'trees'], ['graph', 'minors', 'iv', 'widths', 'of', 'trees', 'and', 'well', 'quasi', 'ordering'], ['graph', 'minors', 'a', 'survey']] \n",
      "\n"
     ]
    }
   ],
   "source": [
    "#lowercasa and tokenize\n",
    "sentences = [[word for word in document.lower().split()]for document in documents]\n",
    "print(sentences,\"\\n\")"
   ]
  },
  {
   "cell_type": "code",
   "execution_count": 4,
   "metadata": {},
   "outputs": [],
   "source": [
    "#number of theads to run in parallel\n",
    "#more workers faster we train\n",
    "num_workers= multiprocessing.cpu_count()"
   ]
  },
  {
   "cell_type": "code",
   "execution_count": 10,
   "metadata": {},
   "outputs": [
    {
     "name": "stdout",
     "output_type": "stream",
     "text": [
      "Wall time: 13 ms\n"
     ]
    },
    {
     "name": "stderr",
     "output_type": "stream",
     "text": [
      "c:\\program files\\python36\\lib\\site-packages\\ipykernel_launcher.py:4: DeprecationWarning: Call to deprecated `__getitem__` (Method will be removed in 4.0.0, use self.wv.__getitem__() instead).\n",
      "  after removing the cwd from sys.path.\n"
     ]
    }
   ],
   "source": [
    "#train word2vec on the 9 sentences above\n",
    "%time model = Word2Vec(sentences,min_count=1,workers=num_workers)\n",
    "# get vector for word 'human'\n",
    "human_vector = model['human']"
   ]
  },
  {
   "cell_type": "code",
   "execution_count": 8,
   "metadata": {},
   "outputs": [
    {
     "name": "stdout",
     "output_type": "stream",
     "text": [
      "\n",
      " vector of word 'human' \n",
      "\n",
      "[-5.14563930e-04  4.76632221e-03 -2.52542348e-04  3.66363861e-03\n",
      " -2.47339718e-03 -1.97874825e-03 -4.93424432e-03  4.69759153e-03\n",
      " -3.21101374e-03  2.64969282e-03 -1.41739927e-03  3.62914434e-04\n",
      "  4.09664493e-03 -1.65829901e-03 -3.76870390e-03 -4.41204384e-03\n",
      "  9.03644541e-04  1.79745792e-03  3.13137076e-03  4.21865704e-03\n",
      " -7.50343141e-04 -4.43575718e-03  4.65360237e-03 -3.59631004e-03\n",
      "  2.91303662e-03  4.10962896e-03  4.23715450e-03 -2.24801814e-04\n",
      "  1.84801908e-03  1.07335683e-03  2.69499444e-03 -2.55882158e-03\n",
      "  1.09442466e-04  2.95803114e-03  1.80525810e-03  2.66158977e-03\n",
      "  1.07364601e-03  8.35105544e-04  1.88058859e-03  2.99685984e-03\n",
      "  3.60701955e-03  2.99941818e-03  1.42286520e-03 -9.01424151e-04\n",
      " -4.28099232e-03  4.02334752e-03  2.44671799e-04  2.35849293e-03\n",
      "  4.63017216e-03 -1.49872468e-03  4.75349510e-03  3.52647621e-03\n",
      "  3.63660813e-03  4.75584948e-03  2.00559548e-03  1.64110897e-04\n",
      " -1.04327896e-03  2.02897657e-03  4.87883110e-03 -1.21066230e-03\n",
      "  1.88274798e-03  1.82305742e-03 -2.81563145e-03 -1.19305612e-03\n",
      "  8.35819228e-04 -4.12972877e-03 -3.77083343e-04  1.74883450e-03\n",
      "  4.02359013e-03  6.86135842e-04  4.46156878e-03 -4.25232667e-03\n",
      " -3.14835015e-05 -5.08362718e-04  1.96206081e-03  3.34109738e-03\n",
      "  1.89407938e-03 -3.91197298e-03  1.38605153e-03  1.75983098e-03\n",
      " -2.47675437e-03  3.38062341e-03 -3.70730180e-03 -3.97462305e-03\n",
      " -4.30725794e-03 -1.44411065e-03 -2.86368700e-03 -4.40158555e-03\n",
      " -6.30919938e-04  2.52041500e-03  1.26311230e-03 -3.60104116e-03\n",
      "  3.74470628e-03  3.20033915e-03  3.55232251e-03  9.73683142e-04\n",
      " -4.33618249e-03  3.73237813e-03 -4.69171163e-03  7.06938969e-04]\n"
     ]
    }
   ],
   "source": [
    "print(\"\\n vector of word 'human' \\n\")\n",
    "print(human_vector)"
   ]
  },
  {
   "cell_type": "code",
   "execution_count": 11,
   "metadata": {},
   "outputs": [
    {
     "name": "stdout",
     "output_type": "stream",
     "text": [
      "\n",
      " vector of the word'machine' \n",
      "\n",
      "[ 4.8253457e-03 -1.2282684e-03 -8.9765573e-04 -1.5354374e-03\n",
      "  1.5596210e-03 -2.2724832e-03  3.6766201e-03  2.0093375e-04\n",
      " -9.3546283e-04 -1.9578133e-03  3.4206761e-03 -1.0413241e-03\n",
      " -2.6857927e-03  4.3536964e-04 -4.8073335e-03  1.7166386e-03\n",
      "  3.5585014e-03  3.9878874e-03  8.4030529e-04 -3.1611426e-03\n",
      "  3.3111102e-03  3.4506386e-04 -2.3119579e-04  4.6204156e-03\n",
      "  4.0730974e-03  3.4245045e-03 -3.1186277e-03 -2.4958400e-03\n",
      "  8.5818800e-05  4.9986298e-05 -1.7112319e-03  4.3238122e-03\n",
      "  2.5698921e-04 -2.5394608e-03  4.3669781e-03 -3.0615495e-03\n",
      "  1.6288933e-03  4.4022962e-03 -4.8186621e-03  1.0565940e-03\n",
      "  2.0438829e-03  1.7812869e-03  1.7623324e-04 -3.3609597e-03\n",
      "  3.7823489e-03  3.7826125e-03  4.9231015e-04  1.1444272e-03\n",
      " -3.8776337e-03  8.2797155e-04 -3.0284221e-03  1.3357105e-03\n",
      " -9.0799876e-04  4.0565901e-03 -3.8625118e-03 -1.4570875e-03\n",
      "  2.9007760e-03  3.1425382e-04  2.4276054e-03  3.8113338e-03\n",
      "  3.2535363e-03 -4.5914729e-03  3.5495861e-05 -4.1953097e-03\n",
      " -7.5960526e-04  2.1945988e-03  3.0454115e-03  4.0446552e-03\n",
      "  4.8566055e-03 -1.5985478e-03 -3.2889737e-05  2.7747725e-03\n",
      "  2.5453260e-03 -2.9349339e-03 -1.9940336e-03  3.0632948e-03\n",
      "  3.4284385e-04  1.0875592e-03  1.3799802e-03 -2.7851637e-03\n",
      "  2.0452267e-03  2.7125238e-03  4.2892701e-04 -2.3410788e-03\n",
      "  1.3838160e-03  1.1714192e-03  2.6923621e-03 -3.0922657e-03\n",
      " -2.6837522e-03 -8.2700851e-04 -2.5189926e-03  1.7076363e-03\n",
      "  2.3550643e-03 -3.1796445e-03 -4.5229592e-03  2.9076173e-03\n",
      "  1.3883587e-04 -7.8258401e-04  3.4185844e-03 -2.8979369e-03]\n"
     ]
    }
   ],
   "source": [
    "#get vector for word 'machine' using model.w instance\n",
    "machine_vector_2 = model.wv['machine']\n",
    "print(\"\\n vector of the word 'machine' \\n\")\n",
    "print(machine_vector_2)"
   ]
  },
  {
   "cell_type": "code",
   "execution_count": null,
   "metadata": {},
   "outputs": [],
   "source": []
  }
 ],
 "metadata": {
  "kernelspec": {
   "display_name": "Python 3",
   "language": "python",
   "name": "python3"
  },
  "language_info": {
   "codemirror_mode": {
    "name": "ipython",
    "version": 3
   },
   "file_extension": ".py",
   "mimetype": "text/x-python",
   "name": "python",
   "nbconvert_exporter": "python",
   "pygments_lexer": "ipython3",
   "version": "3.6.7"
  }
 },
 "nbformat": 4,
 "nbformat_minor": 2
}

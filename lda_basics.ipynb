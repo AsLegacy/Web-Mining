{
 "cells": [
  {
   "cell_type": "code",
   "execution_count": 3,
   "metadata": {},
   "outputs": [
    {
     "name": "stderr",
     "output_type": "stream",
     "text": [
      "c:\\program files\\python36\\lib\\site-packages\\gensim\\utils.py:1212: UserWarning: detected Windows; aliasing chunkize to chunkize_serial\n",
      "  warnings.warn(\"detected Windows; aliasing chunkize to chunkize_serial\")\n",
      "c:\\program files\\python36\\lib\\site-packages\\scipy\\sparse\\sparsetools.py:21: DeprecationWarning: `scipy.sparse.sparsetools` is deprecated!\n",
      "scipy.sparse.sparsetools is a private module for scipy.sparse, and should not be used.\n",
      "  _deprecated()\n"
     ]
    }
   ],
   "source": [
    "import numpy as np\n",
    "import logging\n",
    "\n",
    "import pyLDAvis\n",
    "import pyLDAvis.gensim \n",
    "\n",
    "import warnings\n",
    "\n",
    "from gensim.models.ldamodel import LdaModel\n",
    "from gensim.corpora.dictionary import Dictionary\n"
   ]
  },
  {
   "cell_type": "code",
   "execution_count": 4,
   "metadata": {},
   "outputs": [
    {
     "name": "stderr",
     "output_type": "stream",
     "text": [
      "DEBUG:root:test\n"
     ]
    }
   ],
   "source": [
    "logger = logging.getLogger()\n",
    "logger.setLevel(logging.DEBUG)\n",
    "logging.debug(\"test\")"
   ]
  },
  {
   "cell_type": "code",
   "execution_count": 6,
   "metadata": {},
   "outputs": [],
   "source": [
    "from nltk.tokenize import RegexpTokenizer\n",
    "from nltk.stem.porter import PorterStemmer\n"
   ]
  },
  {
   "cell_type": "code",
   "execution_count": 16,
   "metadata": {},
   "outputs": [
    {
     "name": "stdout",
     "output_type": "stream",
     "text": [
      "[nltk_data] Downloading package wordnet to\n",
      "[nltk_data]     C:\\Users\\HP\\AppData\\Roaming\\nltk_data...\n",
      "[nltk_data]   Package wordnet is already up-to-date!\n"
     ]
    }
   ],
   "source": [
    "import nltk\n",
    "nltk.download(\"wordnet\")\n",
    "from nltk.stem.wordnet import WordNetLemmatizer"
   ]
  },
  {
   "cell_type": "code",
   "execution_count": 18,
   "metadata": {},
   "outputs": [
    {
     "name": "stdout",
     "output_type": "stream",
     "text": [
      "[nltk_data] Downloading package stopwords to\n",
      "[nltk_data]     C:\\Users\\HP\\AppData\\Roaming\\nltk_data...\n",
      "[nltk_data]   Package stopwords is already up-to-date!\n"
     ]
    }
   ],
   "source": [
    "import nltk\n",
    "nltk.download('stopwords')\n",
    "\n",
    "from nltk.corpus import stopwords\n",
    "stopwords_en = stopwords.words('english')"
   ]
  },
  {
   "cell_type": "code",
   "execution_count": 19,
   "metadata": {},
   "outputs": [],
   "source": [
    "c1= \"Human machine interface for lab abc computer applications\"\n",
    "c2 = \"A survey of user opinion of computer system response time\"\n",
    "c3 = \"The EPS user interface management system\"\n",
    "c4 = \"System and human system engineering testing of EPS\"\n",
    "c5 = \"Relation of user perceived response time to error measurement\"\n",
    "m1 = \"The generation of random binary unordered trees\"\n",
    "m2 = \"The intersection graph of paths in trees\"\n",
    "m3 = \"Graph minors IV Widths of trees and well quasi ordering\"\n",
    "m4 = \"Graph minors A survey\""
   ]
  },
  {
   "cell_type": "code",
   "execution_count": 20,
   "metadata": {},
   "outputs": [],
   "source": [
    "# compile sample documents into a list\n",
    "documents = [c1, c2, c3, c4, c5, m1, m2, m3, m4]\n"
   ]
  },
  {
   "cell_type": "code",
   "execution_count": 22,
   "metadata": {},
   "outputs": [],
   "source": [
    "# remove common words and tokenize\n",
    "texts = [[word for word in document.lower().split() if word not in stopwords_en]\n",
    "         for document in documents]\n"
   ]
  },
  {
   "cell_type": "code",
   "execution_count": 23,
   "metadata": {},
   "outputs": [],
   "source": [
    "# remove words that appear only once\n",
    "from collections import defaultdict\n",
    "frequency = defaultdict(int)\n",
    "for text in texts:\n",
    "    for token in text:\n",
    "        frequency[token] += 1\n"
   ]
  },
  {
   "cell_type": "code",
   "execution_count": 24,
   "metadata": {},
   "outputs": [
    {
     "name": "stdout",
     "output_type": "stream",
     "text": [
      "[['human', 'interface', 'computer'],\n",
      " ['survey', 'user', 'computer', 'system', 'response', 'time'],\n",
      " ['eps', 'user', 'interface', 'system'],\n",
      " ['system', 'human', 'system', 'eps'],\n",
      " ['user', 'response', 'time'],\n",
      " ['trees'],\n",
      " ['graph', 'trees'],\n",
      " ['graph', 'minors', 'trees'],\n",
      " ['graph', 'minors', 'survey']]\n"
     ]
    }
   ],
   "source": [
    "texts = [[token for token in text if frequency[token] > 1] for text in texts]\n",
    "\n",
    "from pprint import pprint  # pretty-printer\n",
    "pprint(texts)\n"
   ]
  },
  {
   "cell_type": "code",
   "execution_count": 25,
   "metadata": {},
   "outputs": [
    {
     "name": "stderr",
     "output_type": "stream",
     "text": [
      "INFO:gensim.corpora.dictionary:adding document #0 to Dictionary(0 unique tokens: [])\n",
      "INFO:gensim.corpora.dictionary:built Dictionary(12 unique tokens: ['computer', 'human', 'interface', 'response', 'survey']...) from 9 documents (total 29 corpus positions)\n"
     ]
    },
    {
     "name": "stdout",
     "output_type": "stream",
     "text": [
      "\n",
      " --- dictionary \n",
      " Dictionary(12 unique tokens: ['computer', 'human', 'interface', 'response', 'survey']...)\n"
     ]
    }
   ],
   "source": [
    "dictionary = Dictionary(texts)\n",
    "print(\"\\n --- dictionary \\n\",dictionary)\n",
    "bow_vectors = [dictionary.doc2bow(text) for text in texts]\n"
   ]
  },
  {
   "cell_type": "code",
   "execution_count": 26,
   "metadata": {},
   "outputs": [
    {
     "name": "stderr",
     "output_type": "stream",
     "text": [
      "INFO:gensim.models.ldamodel:using symmetric alpha at 0.5\n",
      "INFO:gensim.models.ldamodel:using symmetric eta at 0.5\n",
      "INFO:gensim.models.ldamodel:using serial LDA version on this node\n",
      "INFO:gensim.models.ldamodel:running online (single-pass) LDA training, 2 topics, 1 passes over the supplied corpus of 9 documents, updating model once every 9 documents, evaluating perplexity every 9 documents, iterating 50x with a convergence threshold of 0.001000\n",
      "WARNING:gensim.models.ldamodel:too few updates, training might not converge; consider increasing the number of passes or iterations to improve accuracy\n",
      "DEBUG:gensim.models.ldamodel:bound: at document #0\n",
      "c:\\program files\\python36\\lib\\site-packages\\gensim\\models\\ldamodel.py:1077: DeprecationWarning: Calling np.sum(generator) is deprecated, and in the future will give a different result. Use np.sum(np.from_iter(generator)) or the python sum builtin instead.\n",
      "  score += np.sum(cnt * logsumexp(Elogthetad + Elogbeta[:, int(id)]) for id, cnt in doc)\n",
      "c:\\program files\\python36\\lib\\site-packages\\gensim\\models\\ldamodel.py:1077: DeprecationWarning: Calling np.sum(generator) is deprecated, and in the future will give a different result. Use np.sum(np.from_iter(generator)) or the python sum builtin instead.\n",
      "  score += np.sum(cnt * logsumexp(Elogthetad + Elogbeta[:, int(id)]) for id, cnt in doc)\n",
      "c:\\program files\\python36\\lib\\site-packages\\gensim\\models\\ldamodel.py:1077: DeprecationWarning: Calling np.sum(generator) is deprecated, and in the future will give a different result. Use np.sum(np.from_iter(generator)) or the python sum builtin instead.\n",
      "  score += np.sum(cnt * logsumexp(Elogthetad + Elogbeta[:, int(id)]) for id, cnt in doc)\n",
      "c:\\program files\\python36\\lib\\site-packages\\gensim\\models\\ldamodel.py:1077: DeprecationWarning: Calling np.sum(generator) is deprecated, and in the future will give a different result. Use np.sum(np.from_iter(generator)) or the python sum builtin instead.\n",
      "  score += np.sum(cnt * logsumexp(Elogthetad + Elogbeta[:, int(id)]) for id, cnt in doc)\n",
      "c:\\program files\\python36\\lib\\site-packages\\gensim\\models\\ldamodel.py:1077: DeprecationWarning: Calling np.sum(generator) is deprecated, and in the future will give a different result. Use np.sum(np.from_iter(generator)) or the python sum builtin instead.\n",
      "  score += np.sum(cnt * logsumexp(Elogthetad + Elogbeta[:, int(id)]) for id, cnt in doc)\n",
      "c:\\program files\\python36\\lib\\site-packages\\gensim\\models\\ldamodel.py:1077: DeprecationWarning: Calling np.sum(generator) is deprecated, and in the future will give a different result. Use np.sum(np.from_iter(generator)) or the python sum builtin instead.\n",
      "  score += np.sum(cnt * logsumexp(Elogthetad + Elogbeta[:, int(id)]) for id, cnt in doc)\n",
      "c:\\program files\\python36\\lib\\site-packages\\gensim\\models\\ldamodel.py:1077: DeprecationWarning: Calling np.sum(generator) is deprecated, and in the future will give a different result. Use np.sum(np.from_iter(generator)) or the python sum builtin instead.\n",
      "  score += np.sum(cnt * logsumexp(Elogthetad + Elogbeta[:, int(id)]) for id, cnt in doc)\n",
      "c:\\program files\\python36\\lib\\site-packages\\gensim\\models\\ldamodel.py:1077: DeprecationWarning: Calling np.sum(generator) is deprecated, and in the future will give a different result. Use np.sum(np.from_iter(generator)) or the python sum builtin instead.\n",
      "  score += np.sum(cnt * logsumexp(Elogthetad + Elogbeta[:, int(id)]) for id, cnt in doc)\n",
      "c:\\program files\\python36\\lib\\site-packages\\gensim\\models\\ldamodel.py:1077: DeprecationWarning: Calling np.sum(generator) is deprecated, and in the future will give a different result. Use np.sum(np.from_iter(generator)) or the python sum builtin instead.\n",
      "  score += np.sum(cnt * logsumexp(Elogthetad + Elogbeta[:, int(id)]) for id, cnt in doc)\n",
      "INFO:gensim.models.ldamodel:-3.312 per-word bound, 9.9 perplexity estimate based on a held-out corpus of 9 documents with 29 words\n",
      "INFO:gensim.models.ldamodel:PROGRESS: pass 0, at document #9/9\n",
      "DEBUG:gensim.models.ldamodel:performing inference on a chunk of 9 documents\n",
      "DEBUG:gensim.models.ldamodel:3/9 documents converged within 50 iterations\n",
      "DEBUG:gensim.models.ldamodel:updating topics\n",
      "INFO:gensim.models.ldamodel:topic #0 (0.500): 0.129*\"graph\" + 0.110*\"trees\" + 0.110*\"user\" + 0.093*\"system\" + 0.091*\"time\" + 0.089*\"minors\" + 0.086*\"survey\" + 0.082*\"response\" + 0.075*\"computer\" + 0.050*\"interface\"\n",
      "INFO:gensim.models.ldamodel:topic #1 (0.500): 0.158*\"system\" + 0.111*\"eps\" + 0.110*\"human\" + 0.103*\"interface\" + 0.083*\"user\" + 0.082*\"trees\" + 0.071*\"computer\" + 0.063*\"response\" + 0.058*\"graph\" + 0.058*\"survey\"\n",
      "INFO:gensim.models.ldamodel:topic diff=0.432665, rho=1.000000\n"
     ]
    }
   ],
   "source": [
    "goodLdaModel = LdaModel(corpus=bow_vectors,id2word=dictionary,iterations=50,num_topics=2)"
   ]
  },
  {
   "cell_type": "code",
   "execution_count": 31,
   "metadata": {},
   "outputs": [
    {
     "name": "stderr",
     "output_type": "stream",
     "text": [
      "<>:1: DeprecationWarning: invalid escape sequence \\ \n",
      "<>:5: DeprecationWarning: invalid escape sequence \\ \n",
      "<>:1: DeprecationWarning: invalid escape sequence \\ \n",
      "<>:5: DeprecationWarning: invalid escape sequence \\ \n",
      "<>:1: DeprecationWarning: invalid escape sequence \\ \n",
      "<>:5: DeprecationWarning: invalid escape sequence \\ \n",
      "<ipython-input-31-e5286df8430b>:1: DeprecationWarning: invalid escape sequence \\ \n",
      "  print(\"\\ --- goodLdaModel : all topics in result ordered by significance \\n\")\n",
      "<ipython-input-31-e5286df8430b>:5: DeprecationWarning: invalid escape sequence \\ \n",
      "  print(\"\\ --- goodLdaModel.print_topics(num_topics=2 n num_words=12) : \\n\")\n",
      "INFO:gensim.models.ldamodel:topic #0 (0.500): 0.129*\"graph\" + 0.110*\"trees\" + 0.110*\"user\" + 0.093*\"system\" + 0.091*\"time\" + 0.089*\"minors\" + 0.086*\"survey\" + 0.082*\"response\" + 0.075*\"computer\" + 0.050*\"interface\"\n",
      "INFO:gensim.models.ldamodel:topic #0 (0.500): 0.129*\"graph\" + 0.110*\"trees\" + 0.110*\"user\" + 0.093*\"system\" + 0.091*\"time\" + 0.089*\"minors\" + 0.086*\"survey\" + 0.082*\"response\" + 0.075*\"computer\" + 0.050*\"interface\" + 0.044*\"human\" + 0.043*\"eps\"\n",
      "INFO:gensim.models.ldamodel:topic #1 (0.500): 0.158*\"system\" + 0.111*\"eps\" + 0.110*\"human\" + 0.103*\"interface\" + 0.083*\"user\" + 0.082*\"trees\" + 0.071*\"computer\" + 0.063*\"response\" + 0.058*\"graph\" + 0.058*\"survey\" + 0.053*\"minors\" + 0.051*\"time\"\n"
     ]
    },
    {
     "name": "stdout",
     "output_type": "stream",
     "text": [
      "\\ --- goodLdaModel : all topics in result ordered by significance \n",
      "\n",
      "[(0, '0.129*\"graph\" + 0.110*\"trees\" + 0.110*\"user\" + 0.093*\"system\" + 0.091*\"time\" + 0.089*\"minors\" + 0.086*\"survey\" + 0.082*\"response\" + 0.075*\"computer\" + 0.050*\"interface\"')]\n",
      "\n",
      "\n",
      "\\ --- goodLdaModel.print_topics(num_topics=2 n num_words=12) : \n",
      "\n",
      "[(0, '0.129*\"graph\" + 0.110*\"trees\" + 0.110*\"user\" + 0.093*\"system\" + 0.091*\"time\" + 0.089*\"minors\" + 0.086*\"survey\" + 0.082*\"response\" + 0.075*\"computer\" + 0.050*\"interface\" + 0.044*\"human\" + 0.043*\"eps\"'), (1, '0.158*\"system\" + 0.111*\"eps\" + 0.110*\"human\" + 0.103*\"interface\" + 0.083*\"user\" + 0.082*\"trees\" + 0.071*\"computer\" + 0.063*\"response\" + 0.058*\"graph\" + 0.058*\"survey\" + 0.053*\"minors\" + 0.051*\"time\"')]\n"
     ]
    }
   ],
   "source": [
    "print(\"\\ --- goodLdaModel : all topics in result ordered by significance \\n\")\n",
    "all_good_topics = goodLdaModel.print_topics(1)\n",
    "print(all_good_topics)\n",
    "print(\"\\n\")\n",
    "print(\"\\ --- goodLdaModel.print_topics(num_topics=2 n num_words=12) : \\n\")\n",
    "print(goodLdaModel.print_topics(num_topics=2, num_words=12))"
   ]
  },
  {
   "cell_type": "code",
   "execution_count": 34,
   "metadata": {},
   "outputs": [
    {
     "name": "stderr",
     "output_type": "stream",
     "text": [
      "c:\\program files\\python36\\lib\\site-packages\\matplotlib\\__init__.py:886: MatplotlibDeprecationWarning: \n",
      "examples.directory is deprecated; in the future, examples will be found relative to the 'datapath' directory.\n",
      "  \"found relative to the 'datapath' directory.\".format(key))\n",
      "DEBUG:matplotlib:CACHEDIR=C:\\Users\\HP\\.matplotlib\n",
      "DEBUG:matplotlib.font_manager:font search path ['c:\\\\program files\\\\python36\\\\lib\\\\site-packages\\\\matplotlib\\\\mpl-data\\\\fonts\\\\ttf', 'c:\\\\program files\\\\python36\\\\lib\\\\site-packages\\\\matplotlib\\\\mpl-data\\\\fonts\\\\afm', 'c:\\\\program files\\\\python36\\\\lib\\\\site-packages\\\\matplotlib\\\\mpl-data\\\\fonts\\\\pdfcorefonts']\n",
      "DEBUG:matplotlib.font_manager:createFontDict: c:\\program files\\python36\\lib\\site-packages\\matplotlib\\mpl-data\\fonts\\ttf\\DejaVuSans-Bold.ttf\n",
      "DEBUG:matplotlib.font_manager:createFontDict: c:\\program files\\python36\\lib\\site-packages\\matplotlib\\mpl-data\\fonts\\ttf\\STIXNonUniIta.ttf\n",
      "DEBUG:matplotlib.font_manager:createFontDict: c:\\program files\\python36\\lib\\site-packages\\matplotlib\\mpl-data\\fonts\\ttf\\STIXSizFourSymBol.ttf\n",
      "DEBUG:matplotlib.font_manager:createFontDict: c:\\program files\\python36\\lib\\site-packages\\matplotlib\\mpl-data\\fonts\\ttf\\cmss10.ttf\n",
      "DEBUG:matplotlib.font_manager:createFontDict: c:\\program files\\python36\\lib\\site-packages\\matplotlib\\mpl-data\\fonts\\ttf\\DejaVuSerifDisplay.ttf\n",
      "DEBUG:matplotlib.font_manager:createFontDict: c:\\program files\\python36\\lib\\site-packages\\matplotlib\\mpl-data\\fonts\\ttf\\STIXSizThreeSymReg.ttf\n",
      "DEBUG:matplotlib.font_manager:createFontDict: c:\\program files\\python36\\lib\\site-packages\\matplotlib\\mpl-data\\fonts\\ttf\\cmb10.ttf\n",
      "DEBUG:matplotlib.font_manager:createFontDict: c:\\program files\\python36\\lib\\site-packages\\matplotlib\\mpl-data\\fonts\\ttf\\STIXSizThreeSymBol.ttf\n",
      "DEBUG:matplotlib.font_manager:createFontDict: c:\\program files\\python36\\lib\\site-packages\\matplotlib\\mpl-data\\fonts\\ttf\\cmr10.ttf\n",
      "DEBUG:matplotlib.font_manager:createFontDict: c:\\program files\\python36\\lib\\site-packages\\matplotlib\\mpl-data\\fonts\\ttf\\STIXGeneralItalic.ttf\n",
      "DEBUG:matplotlib.font_manager:createFontDict: c:\\program files\\python36\\lib\\site-packages\\matplotlib\\mpl-data\\fonts\\ttf\\STIXSizFiveSymReg.ttf\n",
      "DEBUG:matplotlib.font_manager:createFontDict: c:\\program files\\python36\\lib\\site-packages\\matplotlib\\mpl-data\\fonts\\ttf\\DejaVuSansMono-Bold.ttf\n",
      "DEBUG:matplotlib.font_manager:createFontDict: c:\\program files\\python36\\lib\\site-packages\\matplotlib\\mpl-data\\fonts\\ttf\\cmex10.ttf\n",
      "DEBUG:matplotlib.font_manager:createFontDict: c:\\program files\\python36\\lib\\site-packages\\matplotlib\\mpl-data\\fonts\\ttf\\STIXSizFourSymReg.ttf\n",
      "DEBUG:matplotlib.font_manager:createFontDict: c:\\program files\\python36\\lib\\site-packages\\matplotlib\\mpl-data\\fonts\\ttf\\STIXSizTwoSymBol.ttf\n",
      "DEBUG:matplotlib.font_manager:createFontDict: c:\\program files\\python36\\lib\\site-packages\\matplotlib\\mpl-data\\fonts\\ttf\\STIXNonUniBol.ttf\n",
      "DEBUG:matplotlib.font_manager:createFontDict: c:\\program files\\python36\\lib\\site-packages\\matplotlib\\mpl-data\\fonts\\ttf\\DejaVuSansMono.ttf\n",
      "DEBUG:matplotlib.font_manager:createFontDict: c:\\program files\\python36\\lib\\site-packages\\matplotlib\\mpl-data\\fonts\\ttf\\DejaVuSansMono-BoldOblique.ttf\n",
      "DEBUG:matplotlib.font_manager:createFontDict: c:\\program files\\python36\\lib\\site-packages\\matplotlib\\mpl-data\\fonts\\ttf\\STIXSizTwoSymReg.ttf\n",
      "DEBUG:matplotlib.font_manager:createFontDict: c:\\program files\\python36\\lib\\site-packages\\matplotlib\\mpl-data\\fonts\\ttf\\STIXNonUni.ttf\n",
      "DEBUG:matplotlib.font_manager:createFontDict: c:\\program files\\python36\\lib\\site-packages\\matplotlib\\mpl-data\\fonts\\ttf\\DejaVuSans-BoldOblique.ttf\n",
      "DEBUG:matplotlib.font_manager:createFontDict: c:\\program files\\python36\\lib\\site-packages\\matplotlib\\mpl-data\\fonts\\ttf\\STIXNonUniBolIta.ttf\n",
      "DEBUG:matplotlib.font_manager:createFontDict: c:\\program files\\python36\\lib\\site-packages\\matplotlib\\mpl-data\\fonts\\ttf\\STIXSizOneSymBol.ttf\n",
      "DEBUG:matplotlib.font_manager:createFontDict: c:\\program files\\python36\\lib\\site-packages\\matplotlib\\mpl-data\\fonts\\ttf\\DejaVuSerif.ttf\n",
      "DEBUG:matplotlib.font_manager:createFontDict: c:\\program files\\python36\\lib\\site-packages\\matplotlib\\mpl-data\\fonts\\ttf\\cmtt10.ttf\n",
      "DEBUG:matplotlib.font_manager:createFontDict: c:\\program files\\python36\\lib\\site-packages\\matplotlib\\mpl-data\\fonts\\ttf\\DejaVuSerif-Bold.ttf\n",
      "DEBUG:matplotlib.font_manager:createFontDict: c:\\program files\\python36\\lib\\site-packages\\matplotlib\\mpl-data\\fonts\\ttf\\STIXSizOneSymReg.ttf\n",
      "DEBUG:matplotlib.font_manager:createFontDict: c:\\program files\\python36\\lib\\site-packages\\matplotlib\\mpl-data\\fonts\\ttf\\cmsy10.ttf\n",
      "DEBUG:matplotlib.font_manager:createFontDict: c:\\program files\\python36\\lib\\site-packages\\matplotlib\\mpl-data\\fonts\\ttf\\DejaVuSans.ttf\n",
      "DEBUG:matplotlib.font_manager:createFontDict: c:\\program files\\python36\\lib\\site-packages\\matplotlib\\mpl-data\\fonts\\ttf\\DejaVuSans-Oblique.ttf\n",
      "DEBUG:matplotlib.font_manager:createFontDict: c:\\program files\\python36\\lib\\site-packages\\matplotlib\\mpl-data\\fonts\\ttf\\STIXGeneralBol.ttf\n",
      "DEBUG:matplotlib.font_manager:createFontDict: c:\\program files\\python36\\lib\\site-packages\\matplotlib\\mpl-data\\fonts\\ttf\\DejaVuSansMono-Oblique.ttf\n",
      "DEBUG:matplotlib.font_manager:createFontDict: c:\\program files\\python36\\lib\\site-packages\\matplotlib\\mpl-data\\fonts\\ttf\\cmmi10.ttf\n",
      "DEBUG:matplotlib.font_manager:createFontDict: c:\\program files\\python36\\lib\\site-packages\\matplotlib\\mpl-data\\fonts\\ttf\\STIXGeneralBolIta.ttf\n",
      "DEBUG:matplotlib.font_manager:createFontDict: c:\\program files\\python36\\lib\\site-packages\\matplotlib\\mpl-data\\fonts\\ttf\\DejaVuSerif-BoldItalic.ttf\n",
      "DEBUG:matplotlib.font_manager:createFontDict: c:\\program files\\python36\\lib\\site-packages\\matplotlib\\mpl-data\\fonts\\ttf\\STIXGeneral.ttf\n",
      "DEBUG:matplotlib.font_manager:createFontDict: c:\\program files\\python36\\lib\\site-packages\\matplotlib\\mpl-data\\fonts\\ttf\\DejaVuSerif-Italic.ttf\n",
      "DEBUG:matplotlib.font_manager:createFontDict: c:\\program files\\python36\\lib\\site-packages\\matplotlib\\mpl-data\\fonts\\ttf\\DejaVuSansDisplay.ttf\n",
      "DEBUG:matplotlib.font_manager:createFontDict: C:\\WINDOWS\\Fonts\\majalla.ttf\n",
      "DEBUG:matplotlib.font_manager:createFontDict: C:\\WINDOWS\\Fonts\\Sulimany.ttf\n",
      "DEBUG:matplotlib.font_manager:createFontDict: C:\\WINDOWS\\Fonts\\monbaiti.ttf\n",
      "DEBUG:matplotlib.font_manager:createFontDict: C:\\WINDOWS\\Fonts\\Roboto-Thin.ttf\n",
      "DEBUG:matplotlib.font_manager:createFontDict: C:\\WINDOWS\\Fonts\\ebrimabd.ttf\n",
      "DEBUG:matplotlib.font_manager:createFontDict: C:\\WINDOWS\\Fonts\\trebuc.ttf\n",
      "DEBUG:matplotlib.font_manager:createFontDict: C:\\WINDOWS\\Fonts\\bahnschrift.ttf\n",
      "DEBUG:matplotlib.font_manager:createFontDict: C:\\WINDOWS\\Fonts\\simpbdo.ttf\n",
      "DEBUG:matplotlib.font_manager:createFontDict: C:\\WINDOWS\\Fonts\\Cairo-ExtraLight.ttf\n",
      "DEBUG:matplotlib.font_manager:createFontDict: C:\\WINDOWS\\Fonts\\Cairo-Regular.ttf\n",
      "DEBUG:matplotlib.font_manager:createFontDict: C:\\WINDOWS\\Fonts\\Neucha.ttf\n",
      "DEBUG:matplotlib.font_manager:createFontDict: C:\\WINDOWS\\Fonts\\couri.ttf\n",
      "DEBUG:matplotlib.font_manager:createFontDict: C:\\WINDOWS\\Fonts\\georgiab.ttf\n",
      "DEBUG:matplotlib.font_manager:createFontDict: C:\\WINDOWS\\Fonts\\LeelawUI.ttf\n",
      "DEBUG:matplotlib.font_manager:createFontDict: C:\\WINDOWS\\Fonts\\palai.ttf\n",
      "DEBUG:matplotlib.font_manager:createFontDict: C:\\WINDOWS\\Fonts\\segoeuii.ttf\n",
      "DEBUG:matplotlib.font_manager:createFontDict: C:\\WINDOWS\\Fonts\\trebucbi.ttf\n",
      "DEBUG:matplotlib.font_manager:createFontDict: C:\\WINDOWS\\Fonts\\msyi.ttf\n",
      "DEBUG:matplotlib.font_manager:createFontDict: C:\\WINDOWS\\Fonts\\Roboto-ThinItalic.ttf\n",
      "DEBUG:matplotlib.font_manager:createFontDict: C:\\WINDOWS\\Fonts\\tradbdo.ttf\n",
      "DEBUG:matplotlib.font_manager:createFontDict: C:\\WINDOWS\\Fonts\\Roboto-MediumItalic.ttf\n",
      "DEBUG:matplotlib.font_manager:createFontDict: C:\\WINDOWS\\Fonts\\taileb.ttf\n",
      "DEBUG:matplotlib.font_manager:createFontDict: C:\\WINDOWS\\Fonts\\arabswell.ttf\n",
      "DEBUG:matplotlib.font_manager:createFontDict: C:\\WINDOWS\\Fonts\\arial.ttf\n",
      "DEBUG:matplotlib.font_manager:createFontDict: C:\\WINDOWS\\Fonts\\corbel.ttf\n",
      "DEBUG:matplotlib.font_manager:createFontDict: C:\\WINDOWS\\Fonts\\webdings.ttf\n",
      "DEBUG:matplotlib.font_manager:createFontDict: C:\\WINDOWS\\Fonts\\Exo2-Regular.ttf\n",
      "DEBUG:matplotlib.font_manager:createFontDict: C:\\WINDOWS\\Fonts\\Changa-Regular.ttf\n",
      "DEBUG:matplotlib.font_manager:createFontDict: C:\\WINDOWS\\Fonts\\marlett.ttf\n",
      "DEBUG:matplotlib.font_manager:createFontDict: C:\\WINDOWS\\Fonts\\timesbi.ttf\n"
     ]
    },
    {
     "name": "stderr",
     "output_type": "stream",
     "text": [
      "DEBUG:matplotlib.font_manager:createFontDict: C:\\WINDOWS\\Fonts\\malgun.ttf\n",
      "DEBUG:matplotlib.font_manager:createFontDict: C:\\WINDOWS\\Fonts\\cambriai.ttf\n",
      "DEBUG:matplotlib.font_manager:createFontDict: C:\\WINDOWS\\Fonts\\palabi.ttf\n",
      "DEBUG:matplotlib.font_manager:createFontDict: C:\\WINDOWS\\Fonts\\Roboto-Light.ttf\n",
      "DEBUG:matplotlib.font_manager:createFontDict: C:\\WINDOWS\\Fonts\\Inkfree.ttf\n",
      "DEBUG:matplotlib.font_manager:createFontDict: C:\\WINDOWS\\Fonts\\segoeuiz.ttf\n",
      "DEBUG:matplotlib.font_manager:createFontDict: C:\\WINDOWS\\Fonts\\M Unicode Abeer.ttf\n",
      "DEBUG:matplotlib.font_manager:createFontDict: C:\\WINDOWS\\Fonts\\comicbd.ttf\n",
      "DEBUG:matplotlib.font_manager:createFontDict: C:\\WINDOWS\\Fonts\\courbi.ttf\n",
      "DEBUG:matplotlib.font_manager:createFontDict: C:\\WINDOWS\\Fonts\\Roboto-Italic.ttf\n",
      "DEBUG:matplotlib.font_manager:createFontDict: C:\\WINDOWS\\Fonts\\majallab.ttf\n",
      "DEBUG:matplotlib.font_manager:createFontDict: C:\\WINDOWS\\Fonts\\Candarab.ttf\n",
      "DEBUG:matplotlib.font_manager:createFontDict: C:\\WINDOWS\\Fonts\\sylfaen.ttf\n",
      "DEBUG:matplotlib.font_manager:createFontDict: C:\\WINDOWS\\Fonts\\segoeprb.ttf\n",
      "DEBUG:matplotlib.font_manager:createFontDict: C:\\WINDOWS\\Fonts\\simpfxo.ttf\n",
      "DEBUG:matplotlib.font_manager:createFontDict: C:\\WINDOWS\\Fonts\\segoeuil.ttf\n",
      "DEBUG:matplotlib.font_manager:createFontDict: C:\\WINDOWS\\Fonts\\seguisli.ttf\n",
      "DEBUG:matplotlib.font_manager:createFontDict: C:\\WINDOWS\\Fonts\\Gabriola.ttf\n",
      "DEBUG:matplotlib.font_manager:createFontDict: C:\\WINDOWS\\Fonts\\nouvelle_vague_final.ttf\n",
      "DEBUG:matplotlib.font_manager:createFontDict: C:\\WINDOWS\\Fonts\\calibrili.ttf\n",
      "DEBUG:matplotlib.font_manager:createFontDict: C:\\WINDOWS\\Fonts\\Cairo-Black.ttf\n",
      "DEBUG:matplotlib.font_manager:createFontDict: C:\\WINDOWS\\Fonts\\seguisbi.ttf\n",
      "DEBUG:matplotlib.font_manager:createFontDict: C:\\WINDOWS\\Fonts\\UrdTypeb.ttf\n",
      "DEBUG:matplotlib.font_manager:createFontDict: C:\\WINDOWS\\Fonts\\Maghribi-Font.ttf\n",
      "DEBUG:matplotlib.font_manager:createFontDict: C:\\WINDOWS\\Fonts\\taile.ttf\n",
      "DEBUG:matplotlib.font_manager:createFontDict: C:\\WINDOWS\\Fonts\\Andalus.ttf\n",
      "DEBUG:matplotlib.font_manager:createFontDict: C:\\WINDOWS\\Fonts\\BebasNeue Regular.otf\n",
      "DEBUG:matplotlib.font_manager:createFontDict: C:\\WINDOWS\\Fonts\\Candaraz.ttf\n",
      "DEBUG:matplotlib.font_manager:createFontDict: C:\\WINDOWS\\Fonts\\impact.ttf\n",
      "DEBUG:matplotlib.font_manager:createFontDict: C:\\WINDOWS\\Fonts\\Roboto-Bold.ttf\n",
      "DEBUG:matplotlib.font_manager:createFontDict: C:\\WINDOWS\\Fonts\\Roboto-Medium.ttf\n",
      "DEBUG:matplotlib.font_manager:createFontDict: C:\\WINDOWS\\Fonts\\arabtype.ttf\n",
      "DEBUG:matplotlib.font_manager:createFontDict: C:\\WINDOWS\\Fonts\\AGA-Arabesque-2.ttf\n",
      "DEBUG:matplotlib.font_manager:createFontDict: C:\\WINDOWS\\Fonts\\georgia.ttf\n",
      "DEBUG:matplotlib.font_manager:createFontDict: C:\\WINDOWS\\Fonts\\Roboto-Regular.ttf\n",
      "DEBUG:matplotlib.font_manager:createFontDict: C:\\WINDOWS\\Fonts\\segoepr.ttf\n",
      "DEBUG:matplotlib.font_manager:createFontDict: C:\\WINDOWS\\Fonts\\Lalezar-Regular.ttf\n",
      "DEBUG:matplotlib.font_manager:createFontDict: C:\\WINDOWS\\Fonts\\segoeui.ttf\n",
      "DEBUG:matplotlib.font_manager:createFontDict: C:\\WINDOWS\\Fonts\\calibril.ttf\n",
      "DEBUG:matplotlib.font_manager:createFontDict: C:\\WINDOWS\\Fonts\\cour.ttf\n",
      "DEBUG:matplotlib.font_manager:createFontDict: C:\\WINDOWS\\Fonts\\LeelUIsl.ttf\n",
      "DEBUG:matplotlib.font_manager:createFontDict: C:\\WINDOWS\\Fonts\\tahoma.ttf\n",
      "DEBUG:matplotlib.font_manager:createFontDict: C:\\WINDOWS\\Fonts\\cambriaz.ttf\n",
      "DEBUG:matplotlib.font_manager:createFontDict: C:\\WINDOWS\\Fonts\\verdana.ttf\n",
      "DEBUG:matplotlib.font_manager:createFontDict: C:\\WINDOWS\\Fonts\\courbd.ttf\n",
      "DEBUG:matplotlib.font_manager:createFontDict: C:\\WINDOWS\\Fonts\\Amiri-Regular.ttf\n",
      "DEBUG:matplotlib.font_manager:createFontDict: C:\\WINDOWS\\Fonts\\seguisym.ttf\n",
      "DEBUG:matplotlib.font_manager:createFontDict: C:\\WINDOWS\\Fonts\\constan.ttf\n",
      "DEBUG:matplotlib.font_manager:createFontDict: C:\\WINDOWS\\Fonts\\timesbd.ttf\n",
      "DEBUG:matplotlib.font_manager:createFontDict: C:\\WINDOWS\\Fonts\\phagspa.ttf\n",
      "DEBUG:matplotlib.font_manager:createFontDict: C:\\WINDOWS\\Fonts\\Bitter-Italic.otf\n",
      "DEBUG:matplotlib.font_manager:createFontDict: C:\\WINDOWS\\Fonts\\DancingScript-Bold.ttf\n",
      "DEBUG:matplotlib.font_manager:createFontDict: C:\\WINDOWS\\Fonts\\wingding.ttf\n",
      "DEBUG:matplotlib.font_manager:createFontDict: C:\\WINDOWS\\Fonts\\mmrtext.ttf\n",
      "DEBUG:matplotlib.font_manager:createFontDict: C:\\WINDOWS\\Fonts\\seguibli.ttf\n",
      "DEBUG:matplotlib.font_manager:createFontDict: C:\\WINDOWS\\Fonts\\corbelz.ttf\n",
      "DEBUG:matplotlib.font_manager:createFontDict: C:\\WINDOWS\\Fonts\\javatext.ttf\n",
      "DEBUG:matplotlib.font_manager:createFontDict: C:\\WINDOWS\\Fonts\\Shafrah-Regular.otf\n",
      "DEBUG:matplotlib.font_manager:createFontDict: C:\\WINDOWS\\Fonts\\segoesc.ttf\n",
      "DEBUG:matplotlib.font_manager:createFontDict: C:\\WINDOWS\\Fonts\\calibrib.ttf\n",
      "DEBUG:matplotlib.font_manager:createFontDict: C:\\WINDOWS\\Fonts\\ariblk.ttf\n",
      "DEBUG:matplotlib.font_manager:createFontDict: C:\\WINDOWS\\Fonts\\RussoOne-Regular.ttf\n",
      "DEBUG:matplotlib.font_manager:createFontDict: C:\\WINDOWS\\Fonts\\segoeuib.ttf\n",
      "DEBUG:matplotlib.font_manager:createFontDict: C:\\WINDOWS\\Fonts\\corbeli.ttf\n",
      "DEBUG:matplotlib.font_manager:createFontDict: C:\\WINDOWS\\Fonts\\framdit.ttf\n",
      "DEBUG:matplotlib.font_manager:createFontDict: C:\\WINDOWS\\Fonts\\symbol.ttf\n",
      "DEBUG:matplotlib.font_manager:createFontDict: C:\\WINDOWS\\Fonts\\Tangerine-Regular.ttf\n",
      "DEBUG:matplotlib.font_manager:createFontDict: C:\\WINDOWS\\Fonts\\simpo.ttf\n",
      "DEBUG:matplotlib.font_manager:createFontDict: C:\\WINDOWS\\Fonts\\trebucbd.ttf\n",
      "DEBUG:matplotlib.font_manager:createFontDict: C:\\WINDOWS\\Fonts\\seguihis.ttf\n",
      "DEBUG:matplotlib.font_manager:createFontDict: C:\\WINDOWS\\Fonts\\trebucit.ttf\n",
      "DEBUG:matplotlib.font_manager:createFontDict: C:\\WINDOWS\\Fonts\\constanb.ttf\n",
      "DEBUG:matplotlib.font_manager:createFontDict: C:\\WINDOWS\\Fonts\\aldhabi.ttf\n",
      "DEBUG:matplotlib.font_manager:createFontDict: C:\\WINDOWS\\Fonts\\comicz.ttf\n",
      "DEBUG:matplotlib.font_manager:createFontDict: C:\\WINDOWS\\Fonts\\Cairo-Bold.ttf\n",
      "DEBUG:matplotlib.font_manager:createFontDict: C:\\WINDOWS\\Fonts\\LeelaUIb.ttf\n",
      "DEBUG:matplotlib.font_manager:createFontDict: C:\\WINDOWS\\Fonts\\Bitter-Regular.otf\n",
      "DEBUG:matplotlib.font_manager:createFontDict: C:\\WINDOWS\\Fonts\\BebasNeue Light.otf\n",
      "DEBUG:matplotlib.font_manager:createFontDict: C:\\WINDOWS\\Fonts\\georgiai.ttf\n",
      "DEBUG:matplotlib.font_manager:createFontDict: C:\\WINDOWS\\Fonts\\micross.ttf\n",
      "DEBUG:matplotlib.font_manager:createFontDict: C:\\WINDOWS\\Fonts\\holomdl2.ttf\n",
      "DEBUG:matplotlib.font_manager:createFontDict: C:\\WINDOWS\\Fonts\\Omar-Font.ttf\n",
      "DEBUG:matplotlib.font_manager:createFontDict: C:\\WINDOWS\\Fonts\\ReemKufi-Regular.ttf\n",
      "DEBUG:matplotlib.font_manager:createFontDict: C:\\WINDOWS\\Fonts\\Bitter-Bold.otf\n",
      "DEBUG:matplotlib.font_manager:createFontDict: C:\\WINDOWS\\Fonts\\consolab.ttf\n",
      "DEBUG:matplotlib.font_manager:createFontDict: C:\\WINDOWS\\Fonts\\ntailub.ttf\n",
      "DEBUG:matplotlib.font_manager:createFontDict: C:\\WINDOWS\\Fonts\\framd.ttf\n",
      "DEBUG:matplotlib.font_manager:createFontDict: C:\\WINDOWS\\Fonts\\Tajawal-Regular.ttf\n",
      "DEBUG:matplotlib.font_manager:createFontDict: C:\\WINDOWS\\Fonts\\Candara.ttf\n",
      "DEBUG:matplotlib.font_manager:createFontDict: C:\\WINDOWS\\Fonts\\Cairo-Light.ttf\n",
      "DEBUG:matplotlib.font_manager:createFontDict: C:\\WINDOWS\\Fonts\\UrdType.ttf\n",
      "DEBUG:matplotlib.font_manager:createFontDict: C:\\WINDOWS\\Fonts\\NirmalaS.ttf\n",
      "DEBUG:matplotlib.font_manager:createFontDict: C:\\WINDOWS\\Fonts\\Candarai.ttf\n",
      "DEBUG:matplotlib.font_manager:createFontDict: C:\\WINDOWS\\Fonts\\HSN_Moalla.ttf\n",
      "DEBUG:matplotlib.font_manager:createFontDict: C:\\WINDOWS\\Fonts\\seguili.ttf\n",
      "DEBUG:matplotlib.font_manager:createFontDict: C:\\WINDOWS\\Fonts\\calibrii.ttf\n",
      "DEBUG:matplotlib.font_manager:createFontDict: C:\\WINDOWS\\Fonts\\segoescb.ttf\n",
      "DEBUG:matplotlib.font_manager:createFontDict: C:\\WINDOWS\\Fonts\\constani.ttf\n",
      "DEBUG:matplotlib.font_manager:createFontDict: C:\\WINDOWS\\Fonts\\gadugib.ttf\n",
      "DEBUG:matplotlib.font_manager:createFontDict: C:\\WINDOWS\\Fonts\\seguibl.ttf\n",
      "DEBUG:matplotlib.font_manager:createFontDict: C:\\WINDOWS\\Fonts\\arialbi.ttf\n",
      "DEBUG:matplotlib.font_manager:createFontDict: C:\\WINDOWS\\Fonts\\mmrtextb.ttf\n",
      "DEBUG:matplotlib.font_manager:createFontDict: C:\\WINDOWS\\Fonts\\PatrickHand-Regular.ttf\n",
      "DEBUG:matplotlib.font_manager:createFontDict: C:\\WINDOWS\\Fonts\\Roboto-BoldItalic.ttf\n",
      "DEBUG:matplotlib.font_manager:createFontDict: C:\\WINDOWS\\Fonts\\verdanaz.ttf\n",
      "DEBUG:matplotlib.font_manager:createFontDict: C:\\WINDOWS\\Fonts\\seguisb.ttf\n",
      "DEBUG:matplotlib.font_manager:createFontDict: C:\\WINDOWS\\Fonts\\seguiemj.ttf\n"
     ]
    },
    {
     "name": "stderr",
     "output_type": "stream",
     "text": [
      "DEBUG:matplotlib.font_manager:createFontDict: C:\\WINDOWS\\Fonts\\ntailu.ttf\n",
      "DEBUG:matplotlib.font_manager:createFontDict: C:\\WINDOWS\\Fonts\\segoeuisl.ttf\n",
      "DEBUG:matplotlib.font_manager:createFontDict: C:\\WINDOWS\\Fonts\\arialbd.ttf\n",
      "DEBUG:matplotlib.font_manager:createFontDict: C:\\WINDOWS\\Fonts\\consolaz.ttf\n",
      "DEBUG:matplotlib.font_manager:createFontDict: C:\\WINDOWS\\Fonts\\BebasNeue Book.otf\n",
      "DEBUG:matplotlib.font_manager:createFontDict: C:\\WINDOWS\\Fonts\\constanz.ttf\n",
      "DEBUG:matplotlib.font_manager:createFontDict: C:\\WINDOWS\\Fonts\\NirmalaB.ttf\n",
      "DEBUG:matplotlib.font_manager:createFontDict: C:\\WINDOWS\\Fonts\\andlso.ttf\n",
      "DEBUG:matplotlib.font_manager:createFontDict: C:\\WINDOWS\\Fonts\\calibri.ttf\n",
      "DEBUG:matplotlib.font_manager:createFontDict: C:\\WINDOWS\\Fonts\\IndieFlower.ttf\n",
      "DEBUG:matplotlib.font_manager:createFontDict: C:\\WINDOWS\\Fonts\\Roboto-BlackItalic.ttf\n",
      "DEBUG:matplotlib.font_manager:createFontDict: C:\\WINDOWS\\Fonts\\trado.ttf\n",
      "DEBUG:matplotlib.font_manager:createFontDict: C:\\WINDOWS\\Fonts\\Cairo-SemiBold.ttf\n",
      "DEBUG:matplotlib.font_manager:createFontDict: C:\\WINDOWS\\Fonts\\Scheherazade-Regular.ttf\n",
      "DEBUG:matplotlib.font_manager:createFontDict: C:\\WINDOWS\\Fonts\\DancingScript-Regular.ttf\n",
      "DEBUG:matplotlib.font_manager:createFontDict: C:\\WINDOWS\\Fonts\\comici.ttf\n",
      "DEBUG:matplotlib.font_manager:createFontDict: C:\\WINDOWS\\Fonts\\consolai.ttf\n",
      "DEBUG:matplotlib.font_manager:createFontDict: C:\\WINDOWS\\Fonts\\l_10646.ttf\n",
      "DEBUG:matplotlib.font_manager:createFontDict: C:\\WINDOWS\\Fonts\\georgiaz.ttf\n",
      "DEBUG:matplotlib.font_manager:createFontDict: C:\\WINDOWS\\Fonts\\malgunbd.ttf\n",
      "DEBUG:matplotlib.font_manager:createFontDict: C:\\WINDOWS\\Fonts\\Roboto-Black.ttf\n",
      "DEBUG:matplotlib.font_manager:createFontDict: C:\\WINDOWS\\Fonts\\arabswell_1 (1).ttf\n",
      "DEBUG:matplotlib.font_manager:createFontDict: C:\\WINDOWS\\Fonts\\verdanai.ttf\n",
      "DEBUG:matplotlib.font_manager:createFontDict: C:\\WINDOWS\\Fonts\\timesi.ttf\n",
      "DEBUG:matplotlib.font_manager:createFontDict: C:\\WINDOWS\\Fonts\\Bustan-Bold.otf\n",
      "DEBUG:matplotlib.font_manager:createFontDict: C:\\WINDOWS\\Fonts\\msuighub.ttf\n",
      "DEBUG:matplotlib.font_manager:createFontDict: C:\\WINDOWS\\Fonts\\ariali.ttf\n",
      "DEBUG:matplotlib.font_manager:createFontDict: C:\\WINDOWS\\Fonts\\corbelb.ttf\n",
      "DEBUG:matplotlib.font_manager:createFontDict: C:\\WINDOWS\\Fonts\\Roboto-LightItalic.ttf\n",
      "DEBUG:matplotlib.font_manager:createFontDict: C:\\WINDOWS\\Fonts\\segmdl2.ttf\n",
      "DEBUG:matplotlib.font_manager:createFontDict: C:\\WINDOWS\\Fonts\\calibriz.ttf\n",
      "DEBUG:matplotlib.font_manager:createFontDict: C:\\WINDOWS\\Fonts\\cambriab.ttf\n",
      "DEBUG:matplotlib.font_manager:createFontDict: C:\\WINDOWS\\Fonts\\Nirmala.ttf\n",
      "DEBUG:matplotlib.font_manager:createFontDict: C:\\WINDOWS\\Fonts\\Titillium-Semibold.otf\n",
      "DEBUG:matplotlib.font_manager:createFontDict: C:\\WINDOWS\\Fonts\\comic.ttf\n",
      "DEBUG:matplotlib.font_manager:createFontDict: C:\\WINDOWS\\Fonts\\malgunsl.ttf\n",
      "DEBUG:matplotlib.font_manager:createFontDict: C:\\WINDOWS\\Fonts\\consola.ttf\n",
      "DEBUG:matplotlib.font_manager:createFontDict: C:\\WINDOWS\\Fonts\\ShadowsIntoLight.ttf\n",
      "DEBUG:matplotlib.font_manager:createFontDict: C:\\WINDOWS\\Fonts\\times.ttf\n",
      "DEBUG:matplotlib.font_manager:createFontDict: C:\\WINDOWS\\Fonts\\KaushanScript-Regular.ttf\n",
      "DEBUG:matplotlib.font_manager:createFontDict: C:\\WINDOWS\\Fonts\\ebrima.ttf\n",
      "DEBUG:matplotlib.font_manager:createFontDict: C:\\WINDOWS\\Fonts\\simsunb.ttf\n",
      "DEBUG:matplotlib.font_manager:createFontDict: C:\\WINDOWS\\Fonts\\gadugi.ttf\n",
      "DEBUG:matplotlib.font_manager:createFontDict: C:\\WINDOWS\\Fonts\\himalaya.ttf\n",
      "DEBUG:matplotlib.font_manager:createFontDict: C:\\WINDOWS\\Fonts\\msuighur.ttf\n",
      "DEBUG:matplotlib.font_manager:createFontDict: C:\\WINDOWS\\Fonts\\lucon.ttf\n",
      "DEBUG:matplotlib.font_manager:createFontDict: C:\\WINDOWS\\Fonts\\mvboli.ttf\n",
      "DEBUG:matplotlib.font_manager:createFontDict: C:\\WINDOWS\\Fonts\\Bitter-BoldItalic.otf\n",
      "DEBUG:matplotlib.font_manager:createFontDict: C:\\WINDOWS\\Fonts\\verdanab.ttf\n",
      "DEBUG:matplotlib.font_manager:createFontDict: C:\\WINDOWS\\Fonts\\palab.ttf\n",
      "DEBUG:matplotlib.font_manager:createFontDict: C:\\WINDOWS\\Fonts\\Tangerine-Bold.ttf\n",
      "DEBUG:matplotlib.font_manager:createFontDict: C:\\WINDOWS\\Fonts\\BebasNeue Bold.otf\n",
      "DEBUG:matplotlib.font_manager:createFontDict: C:\\WINDOWS\\Fonts\\FOTOGRAAMI-ZKHAREF.ttf\n",
      "DEBUG:matplotlib.font_manager:createFontDict: C:\\WINDOWS\\Fonts\\LateefRegOT.ttf\n",
      "DEBUG:matplotlib.font_manager:createFontDict: C:\\WINDOWS\\Fonts\\tahomabd.ttf\n",
      "DEBUG:matplotlib.font_manager:createFontDict: C:\\WINDOWS\\Fonts\\phagspab.ttf\n",
      "DEBUG:matplotlib.font_manager:createFontDict: C:\\WINDOWS\\Fonts\\BebasNeue Thin.otf\n",
      "DEBUG:matplotlib.font_manager:createFontDict: C:\\WINDOWS\\Fonts\\pala.ttf\n",
      "DEBUG:matplotlib.font_manager:createFontDict: c:\\program files\\python36\\lib\\site-packages\\matplotlib\\mpl-data\\fonts\\afm\\pagk8a.afm\n",
      "DEBUG:matplotlib.font_manager:createFontDict: c:\\program files\\python36\\lib\\site-packages\\matplotlib\\mpl-data\\fonts\\afm\\cmex10.afm\n",
      "DEBUG:matplotlib.font_manager:createFontDict: c:\\program files\\python36\\lib\\site-packages\\matplotlib\\mpl-data\\fonts\\afm\\pcrb8a.afm\n",
      "DEBUG:matplotlib.font_manager:createFontDict: c:\\program files\\python36\\lib\\site-packages\\matplotlib\\mpl-data\\fonts\\afm\\putri8a.afm\n",
      "DEBUG:matplotlib.font_manager:createFontDict: c:\\program files\\python36\\lib\\site-packages\\matplotlib\\mpl-data\\fonts\\afm\\pncri8a.afm\n",
      "DEBUG:matplotlib.font_manager:createFontDict: c:\\program files\\python36\\lib\\site-packages\\matplotlib\\mpl-data\\fonts\\afm\\cmmi10.afm\n",
      "DEBUG:matplotlib.font_manager:createFontDict: c:\\program files\\python36\\lib\\site-packages\\matplotlib\\mpl-data\\fonts\\afm\\putbi8a.afm\n",
      "DEBUG:matplotlib.font_manager:createFontDict: c:\\program files\\python36\\lib\\site-packages\\matplotlib\\mpl-data\\fonts\\pdfcorefonts\\Helvetica.afm\n",
      "DEBUG:matplotlib.font_manager:createFontDict: c:\\program files\\python36\\lib\\site-packages\\matplotlib\\mpl-data\\fonts\\afm\\phvl8a.afm\n",
      "DEBUG:matplotlib.font_manager:createFontDict: c:\\program files\\python36\\lib\\site-packages\\matplotlib\\mpl-data\\fonts\\afm\\putb8a.afm\n",
      "DEBUG:matplotlib.font_manager:createFontDict: c:\\program files\\python36\\lib\\site-packages\\matplotlib\\mpl-data\\fonts\\afm\\pagdo8a.afm\n",
      "DEBUG:matplotlib.font_manager:createFontDict: c:\\program files\\python36\\lib\\site-packages\\matplotlib\\mpl-data\\fonts\\afm\\phvb8an.afm\n",
      "DEBUG:matplotlib.font_manager:createFontDict: c:\\program files\\python36\\lib\\site-packages\\matplotlib\\mpl-data\\fonts\\afm\\psyr.afm\n",
      "DEBUG:matplotlib.font_manager:createFontDict: c:\\program files\\python36\\lib\\site-packages\\matplotlib\\mpl-data\\fonts\\afm\\phvbo8a.afm\n",
      "DEBUG:matplotlib.font_manager:createFontDict: c:\\program files\\python36\\lib\\site-packages\\matplotlib\\mpl-data\\fonts\\afm\\putr8a.afm\n",
      "DEBUG:matplotlib.font_manager:createFontDict: c:\\program files\\python36\\lib\\site-packages\\matplotlib\\mpl-data\\fonts\\afm\\cmtt10.afm\n",
      "DEBUG:matplotlib.font_manager:createFontDict: c:\\program files\\python36\\lib\\site-packages\\matplotlib\\mpl-data\\fonts\\afm\\ptmri8a.afm\n",
      "DEBUG:matplotlib.font_manager:createFontDict: c:\\program files\\python36\\lib\\site-packages\\matplotlib\\mpl-data\\fonts\\afm\\pagko8a.afm\n",
      "DEBUG:matplotlib.font_manager:createFontDict: c:\\program files\\python36\\lib\\site-packages\\matplotlib\\mpl-data\\fonts\\pdfcorefonts\\ZapfDingbats.afm\n",
      "DEBUG:matplotlib.font_manager:createFontDict: c:\\program files\\python36\\lib\\site-packages\\matplotlib\\mpl-data\\fonts\\pdfcorefonts\\Symbol.afm\n",
      "DEBUG:matplotlib.font_manager:createFontDict: c:\\program files\\python36\\lib\\site-packages\\matplotlib\\mpl-data\\fonts\\afm\\pplr8a.afm\n",
      "DEBUG:matplotlib.font_manager:createFontDict: c:\\program files\\python36\\lib\\site-packages\\matplotlib\\mpl-data\\fonts\\afm\\pplri8a.afm\n",
      "DEBUG:matplotlib.font_manager:createFontDict: c:\\program files\\python36\\lib\\site-packages\\matplotlib\\mpl-data\\fonts\\afm\\ptmbi8a.afm\n",
      "DEBUG:matplotlib.font_manager:createFontDict: c:\\program files\\python36\\lib\\site-packages\\matplotlib\\mpl-data\\fonts\\pdfcorefonts\\Times-BoldItalic.afm\n",
      "DEBUG:matplotlib.font_manager:createFontDict: c:\\program files\\python36\\lib\\site-packages\\matplotlib\\mpl-data\\fonts\\afm\\pplb8a.afm\n",
      "DEBUG:matplotlib.font_manager:createFontDict: c:\\program files\\python36\\lib\\site-packages\\matplotlib\\mpl-data\\fonts\\afm\\pcrro8a.afm\n",
      "DEBUG:matplotlib.font_manager:createFontDict: c:\\program files\\python36\\lib\\site-packages\\matplotlib\\mpl-data\\fonts\\afm\\cmsy10.afm\n",
      "DEBUG:matplotlib.font_manager:createFontDict: c:\\program files\\python36\\lib\\site-packages\\matplotlib\\mpl-data\\fonts\\afm\\ptmb8a.afm\n"
     ]
    },
    {
     "name": "stderr",
     "output_type": "stream",
     "text": [
      "DEBUG:matplotlib.font_manager:createFontDict: c:\\program files\\python36\\lib\\site-packages\\matplotlib\\mpl-data\\fonts\\afm\\pzcmi8a.afm\n",
      "DEBUG:matplotlib.font_manager:createFontDict: c:\\program files\\python36\\lib\\site-packages\\matplotlib\\mpl-data\\fonts\\pdfcorefonts\\Times-Italic.afm\n",
      "DEBUG:matplotlib.font_manager:createFontDict: c:\\program files\\python36\\lib\\site-packages\\matplotlib\\mpl-data\\fonts\\pdfcorefonts\\Helvetica-BoldOblique.afm\n",
      "DEBUG:matplotlib.font_manager:createFontDict: c:\\program files\\python36\\lib\\site-packages\\matplotlib\\mpl-data\\fonts\\afm\\pbkli8a.afm\n",
      "DEBUG:matplotlib.font_manager:createFontDict: c:\\program files\\python36\\lib\\site-packages\\matplotlib\\mpl-data\\fonts\\afm\\pcrr8a.afm\n",
      "DEBUG:matplotlib.font_manager:createFontDict: c:\\program files\\python36\\lib\\site-packages\\matplotlib\\mpl-data\\fonts\\afm\\phvb8a.afm\n",
      "DEBUG:matplotlib.font_manager:createFontDict: c:\\program files\\python36\\lib\\site-packages\\matplotlib\\mpl-data\\fonts\\afm\\phvbo8an.afm\n",
      "DEBUG:matplotlib.font_manager:createFontDict: c:\\program files\\python36\\lib\\site-packages\\matplotlib\\mpl-data\\fonts\\afm\\phvr8an.afm\n",
      "DEBUG:matplotlib.font_manager:createFontDict: c:\\program files\\python36\\lib\\site-packages\\matplotlib\\mpl-data\\fonts\\afm\\phvro8an.afm\n",
      "DEBUG:matplotlib.font_manager:createFontDict: c:\\program files\\python36\\lib\\site-packages\\matplotlib\\mpl-data\\fonts\\afm\\pcrbo8a.afm\n",
      "DEBUG:matplotlib.font_manager:createFontDict: c:\\program files\\python36\\lib\\site-packages\\matplotlib\\mpl-data\\fonts\\afm\\pncbi8a.afm\n",
      "DEBUG:matplotlib.font_manager:createFontDict: c:\\program files\\python36\\lib\\site-packages\\matplotlib\\mpl-data\\fonts\\afm\\pncr8a.afm\n",
      "DEBUG:matplotlib.font_manager:createFontDict: c:\\program files\\python36\\lib\\site-packages\\matplotlib\\mpl-data\\fonts\\afm\\pbkdi8a.afm\n",
      "DEBUG:matplotlib.font_manager:createFontDict: c:\\program files\\python36\\lib\\site-packages\\matplotlib\\mpl-data\\fonts\\afm\\pbkl8a.afm\n",
      "DEBUG:matplotlib.font_manager:createFontDict: c:\\program files\\python36\\lib\\site-packages\\matplotlib\\mpl-data\\fonts\\afm\\pbkd8a.afm\n",
      "DEBUG:matplotlib.font_manager:createFontDict: c:\\program files\\python36\\lib\\site-packages\\matplotlib\\mpl-data\\fonts\\afm\\phvro8a.afm\n",
      "DEBUG:matplotlib.font_manager:createFontDict: c:\\program files\\python36\\lib\\site-packages\\matplotlib\\mpl-data\\fonts\\afm\\ptmr8a.afm\n",
      "DEBUG:matplotlib.font_manager:createFontDict: c:\\program files\\python36\\lib\\site-packages\\matplotlib\\mpl-data\\fonts\\afm\\phvlo8a.afm\n",
      "DEBUG:matplotlib.font_manager:createFontDict: c:\\program files\\python36\\lib\\site-packages\\matplotlib\\mpl-data\\fonts\\afm\\pzdr.afm\n",
      "DEBUG:matplotlib.font_manager:createFontDict: c:\\program files\\python36\\lib\\site-packages\\matplotlib\\mpl-data\\fonts\\pdfcorefonts\\Courier-BoldOblique.afm\n",
      "DEBUG:matplotlib.font_manager:createFontDict: c:\\program files\\python36\\lib\\site-packages\\matplotlib\\mpl-data\\fonts\\afm\\phvr8a.afm\n",
      "DEBUG:matplotlib.font_manager:createFontDict: c:\\program files\\python36\\lib\\site-packages\\matplotlib\\mpl-data\\fonts\\pdfcorefonts\\Courier-Oblique.afm\n",
      "DEBUG:matplotlib.font_manager:createFontDict: c:\\program files\\python36\\lib\\site-packages\\matplotlib\\mpl-data\\fonts\\pdfcorefonts\\Helvetica-Oblique.afm\n",
      "DEBUG:matplotlib.font_manager:createFontDict: c:\\program files\\python36\\lib\\site-packages\\matplotlib\\mpl-data\\fonts\\pdfcorefonts\\Times-Roman.afm\n",
      "DEBUG:matplotlib.font_manager:createFontDict: c:\\program files\\python36\\lib\\site-packages\\matplotlib\\mpl-data\\fonts\\pdfcorefonts\\Courier-Bold.afm\n",
      "DEBUG:matplotlib.font_manager:createFontDict: c:\\program files\\python36\\lib\\site-packages\\matplotlib\\mpl-data\\fonts\\pdfcorefonts\\Times-Bold.afm\n",
      "DEBUG:matplotlib.font_manager:createFontDict: c:\\program files\\python36\\lib\\site-packages\\matplotlib\\mpl-data\\fonts\\afm\\cmr10.afm\n",
      "DEBUG:matplotlib.font_manager:createFontDict: c:\\program files\\python36\\lib\\site-packages\\matplotlib\\mpl-data\\fonts\\afm\\pncb8a.afm\n",
      "DEBUG:matplotlib.font_manager:createFontDict: c:\\program files\\python36\\lib\\site-packages\\matplotlib\\mpl-data\\fonts\\afm\\pplbi8a.afm\n",
      "DEBUG:matplotlib.font_manager:createFontDict: c:\\program files\\python36\\lib\\site-packages\\matplotlib\\mpl-data\\fonts\\afm\\pagd8a.afm\n",
      "DEBUG:matplotlib.font_manager:createFontDict: c:\\program files\\python36\\lib\\site-packages\\matplotlib\\mpl-data\\fonts\\pdfcorefonts\\Helvetica-Bold.afm\n",
      "DEBUG:matplotlib.font_manager:createFontDict: c:\\program files\\python36\\lib\\site-packages\\matplotlib\\mpl-data\\fonts\\pdfcorefonts\\Courier.afm\n",
      "DEBUG:matplotlib.font_manager:generated new fontManager\n",
      "DEBUG:matplotlib.pyplot:Loaded backend module://ipykernel.pylab.backend_inline version unknown.\n",
      "DEBUG:matplotlib.pyplot:Loaded backend module://ipykernel.pylab.backend_inline version unknown.\n"
     ]
    },
    {
     "name": "stdout",
     "output_type": "stream",
     "text": [
      "Wall time: 11.8 s\n"
     ]
    }
   ],
   "source": [
    "%%time\n",
    "import warnings\n",
    "import pandas as pd\n",
    "import seaborn as sms\n",
    "import matplotlib.pyplot as plt\n",
    "warnings.filterwarnings(\"ignore\")"
   ]
  },
  {
   "cell_type": "code",
   "execution_count": 36,
   "metadata": {},
   "outputs": [
    {
     "name": "stderr",
     "output_type": "stream",
     "text": [
      "DEBUG:matplotlib.axes._base:update_title_pos\n",
      "DEBUG:matplotlib.font_manager:findfont: Matching :family=sans-serif:style=normal:variant=normal:weight=normal:stretch=normal:size=10.0 to DejaVu Sans ('c:\\\\program files\\\\python36\\\\lib\\\\site-packages\\\\matplotlib\\\\mpl-data\\\\fonts\\\\ttf\\\\DejaVuSans.ttf') with score of 0.050000.\n",
      "DEBUG:matplotlib.font_manager:findfont: Matching :family=sans-serif:style=normal:variant=normal:weight=normal:stretch=normal:size=12.0 to DejaVu Sans ('c:\\\\program files\\\\python36\\\\lib\\\\site-packages\\\\matplotlib\\\\mpl-data\\\\fonts\\\\ttf\\\\DejaVuSans.ttf') with score of 0.050000.\n",
      "DEBUG:matplotlib.axes._base:update_title_pos\n",
      "DEBUG:matplotlib.axes._base:update_title_pos\n",
      "DEBUG:matplotlib.axes._base:update_title_pos\n",
      "DEBUG:matplotlib.axes._base:update_title_pos\n",
      "DEBUG:matplotlib.axes._base:update_title_pos\n",
      "DEBUG:matplotlib.axes._base:update_title_pos\n",
      "DEBUG:matplotlib.axes._base:update_title_pos\n"
     ]
    },
    {
     "data": {
      "image/png": "[encoded data removed]",
      "text/plain": [
       "<Figure size 1080x2160 with 2 Axes>"
      ]
     },
     "metadata": {
      "needs_background": "light"
     },
     "output_type": "display_data"
    }
   ],
   "source": [
    "fiz = plt.figure(figsize = (15,30))\n",
    "for i in range(2):\n",
    "    df = pd.DataFrame(goodLdaModel.show_topic(i,12), columns=['term','prob']).set_index('term')\n",
    "    plt.subplot(5,2,i+1)\n",
    "    plt.title('topic'+str(i+1))\n",
    "    sms.barplot(x='prob', y=df.index, data=df , label = 'Cities',palette='Reds_d')\n",
    "    plt.xlabel('probability')\n",
    "plt.show()"
   ]
  },
  {
   "cell_type": "code",
   "execution_count": null,
   "metadata": {},
   "outputs": [],
   "source": []
  }
 ],
 "metadata": {
  "kernelspec": {
   "display_name": "Python 3",
   "language": "python",
   "name": "python3"
  },
  "language_info": {
   "codemirror_mode": {
    "name": "ipython",
    "version": 3
   },
   "file_extension": ".py",
   "mimetype": "text/x-python",
   "name": "python",
   "nbconvert_exporter": "python",
   "pygments_lexer": "ipython3",
   "version": "3.6.7"
  }
 },
 "nbformat": 4,
 "nbformat_minor": 2
}
